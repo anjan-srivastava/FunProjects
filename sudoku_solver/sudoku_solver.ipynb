{
 "cells": [
  {
   "cell_type": "markdown",
   "metadata": {
    "deletable": false,
    "editable": false,
    "nbgrader": {
     "cell_type": "markdown",
     "checksum": "fd833ec76cb8ba9d566276fea93cc9de",
     "grade": false,
     "grade_id": "cell-7627f5746c36b7ce",
     "locked": true,
     "schema_version": 3,
     "solution": false
    }
   },
   "source": [
    "## Definition of a Sudoku\n",
    "A sudoku puzzle is a popular logic puzzle commonly found in newspapers and puzzle books.  The puzzle is given as a 9x9 grid with the numbers 1 through 9 entered in it.  Throughout this lab, we will take \"0\" to mean a \"blank cell\".  The objective of the puzzle is to fill in all the blank cells with numbers between 1 and 9.  A typical sudoku puzzle looks like this:\n",
    "\n",
    "0 0 7  || 0 0 0  || 0 1 5\n",
    "\n",
    "0 0 0  || 3 9 7  || 0 0 0\n",
    "\n",
    "0 6 2  || 0 1 0  || 4 0 9\n",
    "\n",
    "===============\n",
    "\n",
    "0 2 0  || 0 0 1  || 5 4 3\n",
    "\n",
    "7 0 0  || 4 0 9  || 0 0 1\n",
    "\n",
    "4 8 1  || 2 0 0  || 0 6 0\n",
    "\n",
    "===============\n",
    "\n",
    "9 0 6  || 0 2 0  || 7 3 0\n",
    "\n",
    "0 0 0  || 9 8 4  || 0 0 0\n",
    "\n",
    "1 5 0  || 0 0 0  || 2 0 0\n",
    "\n",
    "There are three rules about what numbers are allowed to go in any particular cell. \n",
    "\n",
    "1) Numbers are not allowed to occur more than once in any horizontal row \n",
    "\n",
    "2) Numbers are not allowed to occur more than once in any vertical column \n",
    "\n",
    "3) Numbers are not allowed to occur more than once in any of the nine smaller squares (here indicated by lines)\n",
    "\n",
    "Another way of saying this is that a number may only appear once in any row, column, or sub-square.  \n",
    "\n",
    "Over the course of this lab we will construct an algorithm which will solve sudoku problems automatically.  "
   ]
  },
  {
   "cell_type": "markdown",
   "metadata": {
    "deletable": false,
    "editable": false,
    "nbgrader": {
     "cell_type": "markdown",
     "checksum": "d8b0742cffd470f9b4de30da672f959c",
     "grade": false,
     "grade_id": "cell-7a5b41a495e5e76d",
     "locked": true,
     "schema_version": 3,
     "solution": false
    }
   },
   "source": [
    "## How we will encode a Sudoku Puzzle in Python\n",
    "For the purposes of this algorithm, we will define a sudoku puzzle as a two dimensional list, as follows.  Every element of s is a list containing nine elements, which correspond to each cell in that row.  When any function in this lab specifies a sudoku puzzle as an input, you may expect it in this format.\n",
    "\n",
    "s = [\n",
    "     \n",
    "     [0,0,7, 0,0,0, 0,1,5],\n",
    "\n",
    "     [0,0,0, 3,9,7, 0,0,0],\n",
    "     \n",
    "     [0,6,2, 0,1,0, 4,0,9],\n",
    "     \n",
    "     [0,2,0, 0,0,1, 5,4,3],\n",
    "     \n",
    "     [7,0,0, 4,0,9, 0,0,1],\n",
    "     \n",
    "     [4,8,1, 2,0,0, 0,6,0],\n",
    "     \n",
    "     [9,0,6, 0,2,0, 7,3,0],\n",
    "     \n",
    "     [0,0,0, 9,8,4, 0,0,0],\n",
    "     \n",
    "     [1,5,0, 0,0,0, 2,0,0]\n",
    "    ]\n",
    "    \n",
    "## Please run the cell below to instantiate the sudoku test cases throughout the rest of the assignment."
   ]
  },
  {
   "cell_type": "code",
   "execution_count": 164,
   "metadata": {
    "deletable": false,
    "editable": false,
    "nbgrader": {
     "cell_type": "code",
     "checksum": "a5c97b93d5a01e49306d389138546bce",
     "grade": false,
     "grade_id": "cell-3c69cec20bd46815",
     "locked": true,
     "schema_version": 3,
     "solution": false
    }
   },
   "outputs": [],
   "source": [
    "def instantiateCases () :\n",
    "    # Correctly Formulated Sudoku\n",
    "    global s \n",
    "    s = [[0,0,7, 0,0,0, 0,1,5],\n",
    "         [0,0,0, 3,9,7, 0,0,0],\n",
    "         [0,6,2, 0,1,0, 4,0,9], \n",
    "         [0,2,0, 0,0,1, 5,4,3],\n",
    "         [7,0,0, 4,0,9, 0,0,1],\n",
    "         [4,8,1, 2,0,0, 0,6,0],\n",
    "         [9,0,6, 0,2,0, 7,3,0],\n",
    "         [0,0,0, 9,8,4, 0,0,0],\n",
    "         [1,5,0, 0,0,0, 2,0,0]\n",
    "        ]    \n",
    "    # Unsolvable Sudoku (Information Missing)\n",
    "    global s2 \n",
    "    s2= [[0,0,0, 0,0,0, 0,1,5],\n",
    "         [0,0,0, 3,9,7, 0,0,0],\n",
    "         [0,0,0, 0,1,0, 4,0,9],\n",
    "         [0,0,0, 0,0,1, 5,4,3],\n",
    "         [0,0,0, 4,0,9, 0,0,1],\n",
    "         [0,0,0, 2,0,0, 0,6,0],\n",
    "         [0,0,0, 0,2,0, 7,3,0],\n",
    "         [0,0,0, 9,8,4, 0,0,0],\n",
    "         [0,0,0, 0,0,0, 2,0,0]\n",
    "        ]\n",
    "    # Solved Sudoku\n",
    "    global s3 \n",
    "    s3= [[8,9,7, 6,4,2, 3,1,5],\n",
    "         [5,1,4, 3,9,7, 6,8,2],\n",
    "         [3,6,2, 5,1,8, 4,7,9],\n",
    "         [6,2,9, 8,7,1, 5,4,3],\n",
    "         [7,3,5, 4,6,9, 8,2,1],\n",
    "         [4,8,1, 2,5,3, 9,6,7],\n",
    "         [9,4,6, 1,2,5, 7,3,8],\n",
    "         [2,7,3, 9,8,4, 1,5,6],\n",
    "         [1,5,8, 7,3,6, 2,9,4]]\n",
    "    # Invalid Sudoku (Does not follow Rules of Sudoku\n",
    "    global s4 \n",
    "    s4= [[0,0,7, 0,0,0, 0,1,5],\n",
    "         [0,0,0, 3,9,7, 0,0,0],\n",
    "         [0,6,2, 0,1,0, 4,0,9], \n",
    "         [0,2,0, 0,0,1, 5,4,3],\n",
    "         [7,0,0, 4,0,9, 0,0,1],\n",
    "         [4,8,1, 2,0,0, 0,6,0],\n",
    "         [9,0,6, 5,2,0, 7,3,0],\n",
    "         [0,0,0, 9,8,4, 0,0,0],\n",
    "         [1,3,6, 0,0,0, 2,0,0]\n",
    "        ]\n",
    "    # s after one full application of elimination\n",
    "    global s5 \n",
    "    s5=[[0,0,7, 0,0,0, 0,1,5],\n",
    "        [0,0,0, 3,9,7, 0,0,0],\n",
    "        [0,6,2, 0,1,0, 4,0,9],\n",
    "        [6,2,9, 0,7,1, 5,4,3],\n",
    "        [7,3,5, 4,6,9, 8,2,1],\n",
    "        [4,8,1, 2,0,0, 9,6,7],\n",
    "        [9,4,6, 0,2,5, 7,3,8],\n",
    "        [0,7,3, 9,8,4, 0,5,6],\n",
    "        [1,5,8, 0,3,6, 2,9,4]]\n",
    "    # Medium Difficulty Sudoku, unsolvable by elimination method alone\n",
    "    global m\n",
    "    m =[[1,0,0, 9,0,8, 3,6,0],\n",
    "        [0,0,5, 3,0,0, 4,0,0],\n",
    "        [8,0,0, 6,5,0, 0,0,0],\n",
    "        [0,0,0, 0,0,3, 0,9,2],\n",
    "        [0,0,3, 0,0,0, 1,0,0],\n",
    "        [5,6,0, 1,0,0, 0,0,0],\n",
    "        [0,0,0, 0,7,6, 0,0,3],\n",
    "        [0,0,6, 0,0,0, 2,0,0],\n",
    "        [0,8,4, 2,0,5, 0,0,7]]\n",
    "    # Super Difficult Sudoku, unsolvable by elimination method and requiring advanced techniques\n",
    "    global h\n",
    "    h =[[0,0,0, 0,0,0, 0,3,0],\n",
    "        [6,0,5, 0,0,0, 0,0,0],\n",
    "        [0,3,0, 0,1,0, 9,0,0],\n",
    "        [5,7,0, 6,0,0, 0,0,0],\n",
    "        [0,9,0, 0,0,0, 0,1,0],\n",
    "        [0,0,0, 0,0,8, 0,2,4],\n",
    "        [0,0,1, 0,7,0, 0,4,0],\n",
    "        [0,0,0, 0,0,0, 5,0,8],\n",
    "        [0,2,0, 0,0,0, 0,0,0]]\n",
    "        # Correctly Formulated Sudoku\n",
    "    global s6\n",
    "    s6= [[0,0,7, 0,0,0, 0,1,5],\n",
    "         [0,0,0, 3,9,7, 0,8,0],\n",
    "         [0,6,2, 0,1,8, 4,0,9], \n",
    "         [0,2,0, 0,0,1, 5,4,3],\n",
    "         [7,0,0, 4,0,9, 0,0,1],\n",
    "         [4,8,1, 2,0,0, 0,6,0],\n",
    "         [9,0,6, 0,2,0, 7,3,0],\n",
    "         [0,0,0, 9,8,4, 0,0,0],\n",
    "         [1,5,0, 0,0,0, 2,0,0]\n",
    "        ]    "
   ]
  },
  {
   "cell_type": "markdown",
   "metadata": {
    "deletable": false,
    "editable": false,
    "nbgrader": {
     "cell_type": "markdown",
     "checksum": "26dc7efc148b1f99497b50bc12bfa20b",
     "grade": false,
     "grade_id": "cell-7d0b7a9b04be9339",
     "locked": true,
     "schema_version": 3,
     "solution": false
    }
   },
   "source": [
    "### Checking if a Sudoku is Solved \n",
    "Remember our problem definition.  The object of a sudoku puzzle is to fill every cell with the correct number.  Therefore, if zeros indicate an unfilled \"blank\" cell, then if there are __no zeros in a sudoku__, the puzzle is solved!\n",
    "\n",
    "Write a function 'solved(s)' which, given a sudoku puzzle, returns True if the puzzle is solved and False if it is not solved.  \n"
   ]
  },
  {
   "cell_type": "code",
   "execution_count": 165,
   "metadata": {
    "deletable": false,
    "nbgrader": {
     "cell_type": "code",
     "checksum": "f084d0d8850c4c29558ed69fa2d7d2b9",
     "grade": false,
     "grade_id": "cell-37856399bdd166c5",
     "locked": false,
     "schema_version": 3,
     "solution": true
    }
   },
   "outputs": [],
   "source": [
    "def solved(s) :\n",
    "    for row in s:\n",
    "        for el in row:\n",
    "            if el == 0:\n",
    "                return False\n",
    "    return True\n",
    " \n"
   ]
  },
  {
   "cell_type": "markdown",
   "metadata": {
    "deletable": false,
    "editable": false,
    "nbgrader": {
     "cell_type": "markdown",
     "checksum": "8d6f6dfec0513adba5a9e338d168f0a9",
     "grade": false,
     "grade_id": "cell-8b99c9aea9cb38ef",
     "locked": true,
     "schema_version": 3,
     "solution": false
    }
   },
   "source": [
    "### Test Cases"
   ]
  },
  {
   "cell_type": "code",
   "execution_count": 166,
   "metadata": {},
   "outputs": [
    {
     "output_type": "execute_result",
     "data": {
      "text/plain": "True"
     },
     "metadata": {},
     "execution_count": 166
    }
   ],
   "source": [
    "instantiateCases () \n",
    "solved(s) == False"
   ]
  },
  {
   "cell_type": "code",
   "execution_count": 167,
   "metadata": {},
   "outputs": [
    {
     "output_type": "execute_result",
     "data": {
      "text/plain": "True"
     },
     "metadata": {},
     "execution_count": 167
    }
   ],
   "source": [
    "instantiateCases () \n",
    "solved(s3) == True"
   ]
  },
  {
   "cell_type": "code",
   "execution_count": 168,
   "metadata": {
    "deletable": false,
    "editable": false,
    "nbgrader": {
     "cell_type": "code",
     "checksum": "2a827d28b1abfa76d8335cc58f86ba3e",
     "grade": true,
     "grade_id": "cell-b92ff0a500757b25",
     "locked": true,
     "points": 1,
     "schema_version": 3,
     "solution": false
    }
   },
   "outputs": [],
   "source": [
    "# Hidden Test Case"
   ]
  },
  {
   "cell_type": "code",
   "execution_count": 169,
   "metadata": {
    "deletable": false,
    "editable": false,
    "nbgrader": {
     "cell_type": "code",
     "checksum": "7d1c090d695a4ecc77d18e97a2d5888d",
     "grade": true,
     "grade_id": "cell-142299d193527a62",
     "locked": true,
     "points": 1,
     "schema_version": 3,
     "solution": false
    }
   },
   "outputs": [],
   "source": [
    "# Hidden Test Case"
   ]
  },
  {
   "cell_type": "markdown",
   "metadata": {
    "deletable": false,
    "editable": false,
    "nbgrader": {
     "cell_type": "markdown",
     "checksum": "8284b46b34e3939acc812f4a96e5ff63",
     "grade": false,
     "grade_id": "cell-d019668d15a888f6",
     "locked": true,
     "schema_version": 3,
     "solution": false
    }
   },
   "source": [
    "## Implementing Rule 1 \n",
    "Recall the first rule of sudoku: \"A number may not occur more than once in a given row.\"  In order to test our possible solutions later on, it will be convenient to have a function that automatically tells us if a specific value is \"valid\" for a specific row.  \n",
    "\n",
    "Write a function `horizontalCheck(x,val,s)` which, given a row number `x`, a value to check `val`, and a sudoku puzzle `s`, returns False if the given value has already been used in the indicated row, and True if the number is still available."
   ]
  },
  {
   "cell_type": "code",
   "execution_count": 170,
   "metadata": {
    "deletable": false,
    "nbgrader": {
     "cell_type": "code",
     "checksum": "65e9f10a504b3be22b1e39d38fe7b74f",
     "grade": false,
     "grade_id": "cell-4d5b8175ecae9756",
     "locked": false,
     "schema_version": 3,
     "solution": true
    }
   },
   "outputs": [],
   "source": [
    "def horizontalCheck(x, val, s) :\n",
    "    assert 0 <= x <= len(s)\n",
    "    row = s[x]\n",
    "    seen = False\n",
    "    for el in row:\n",
    "        if el == val:\n",
    "            return False\n",
    "    return True\n",
    "\n"
   ]
  },
  {
   "cell_type": "markdown",
   "metadata": {
    "deletable": false,
    "editable": false,
    "nbgrader": {
     "cell_type": "markdown",
     "checksum": "7fead77a842cb0a7ca4d7a09159bc684",
     "grade": false,
     "grade_id": "cell-7f182ad010a348b5",
     "locked": true,
     "schema_version": 3,
     "solution": false
    }
   },
   "source": [
    "### Test Cases"
   ]
  },
  {
   "cell_type": "code",
   "execution_count": 171,
   "metadata": {},
   "outputs": [
    {
     "output_type": "execute_result",
     "data": {
      "text/plain": "True"
     },
     "metadata": {},
     "execution_count": 171
    }
   ],
   "source": [
    "instantiateCases () \n",
    "horizontalCheck(0,5,s) == False"
   ]
  },
  {
   "cell_type": "code",
   "execution_count": 172,
   "metadata": {},
   "outputs": [
    {
     "output_type": "execute_result",
     "data": {
      "text/plain": "True"
     },
     "metadata": {},
     "execution_count": 172
    }
   ],
   "source": [
    "instantiateCases () \n",
    "horizontalCheck(1,1,s) == True"
   ]
  },
  {
   "cell_type": "code",
   "execution_count": 173,
   "metadata": {
    "deletable": false,
    "editable": false,
    "nbgrader": {
     "cell_type": "code",
     "checksum": "b3dedce703ad424106760e88011d8e00",
     "grade": true,
     "grade_id": "cell-c30cdfc80a73eb80",
     "locked": true,
     "points": 1,
     "schema_version": 3,
     "solution": false
    }
   },
   "outputs": [],
   "source": [
    "# Hidden Test Case"
   ]
  },
  {
   "cell_type": "code",
   "execution_count": 174,
   "metadata": {
    "deletable": false,
    "editable": false,
    "nbgrader": {
     "cell_type": "code",
     "checksum": "7cfeb1b63ae699ecc76de6fb49adae82",
     "grade": true,
     "grade_id": "cell-78e8a05ae679cebf",
     "locked": true,
     "points": 1,
     "schema_version": 3,
     "solution": false
    }
   },
   "outputs": [],
   "source": [
    "# Hidden Test Case"
   ]
  },
  {
   "cell_type": "markdown",
   "metadata": {
    "deletable": false,
    "editable": false,
    "nbgrader": {
     "cell_type": "markdown",
     "checksum": "adfecf62455b9762dad0627189102679",
     "grade": false,
     "grade_id": "cell-e92b345f34489fdd",
     "locked": true,
     "schema_version": 3,
     "solution": false
    }
   },
   "source": [
    "## Implementing Rule 2\n",
    "Recall the second law of sudoku: \"A number may not occur more than once in a given column\"  Similarly to 2a, it will be useful later on to create a function which implements this as a check.  \n",
    "\n",
    "Write a function `verticalCheck(y,val,s)` which, given a column number `y`, a value to check `val`, and a sudoku puzzle `s`, returns False if the given value has already been used in the indicated column, and True if the number is still available."
   ]
  },
  {
   "cell_type": "code",
   "execution_count": 175,
   "metadata": {
    "deletable": false,
    "nbgrader": {
     "cell_type": "code",
     "checksum": "936dc184e66092386f8f4683e30cc77b",
     "grade": false,
     "grade_id": "cell-2eb49b1e1dc57997",
     "locked": false,
     "schema_version": 3,
     "solution": true
    }
   },
   "outputs": [],
   "source": [
    "def getCol(y, s):\n",
    "    col = []\n",
    "    for row in s:\n",
    "        col.append(row[y])\n",
    "    return col\n",
    "\n",
    "def verticalCheck(y, val, s) :\n",
    "    col = getCol(y, s)\n",
    "    for el in col:\n",
    "        if el == val:\n",
    "            return False\n",
    "    return True\n",
    "\n"
   ]
  },
  {
   "cell_type": "markdown",
   "metadata": {
    "deletable": false,
    "editable": false,
    "nbgrader": {
     "cell_type": "markdown",
     "checksum": "016c61cb23008ea53264e6b7e47a494d",
     "grade": false,
     "grade_id": "cell-b7e3d61856b1cb27",
     "locked": true,
     "schema_version": 3,
     "solution": false
    }
   },
   "source": [
    "### Test Cases"
   ]
  },
  {
   "cell_type": "code",
   "execution_count": 176,
   "metadata": {},
   "outputs": [
    {
     "output_type": "execute_result",
     "data": {
      "text/plain": "True"
     },
     "metadata": {},
     "execution_count": 176
    }
   ],
   "source": [
    "instantiateCases () \n",
    "verticalCheck(4,8,s) == False"
   ]
  },
  {
   "cell_type": "code",
   "execution_count": 177,
   "metadata": {},
   "outputs": [
    {
     "output_type": "execute_result",
     "data": {
      "text/plain": "True"
     },
     "metadata": {},
     "execution_count": 177
    }
   ],
   "source": [
    "instantiateCases () \n",
    "verticalCheck(8,7,s) == True"
   ]
  },
  {
   "cell_type": "code",
   "execution_count": 178,
   "metadata": {
    "deletable": false,
    "editable": false,
    "nbgrader": {
     "cell_type": "code",
     "checksum": "f762f37f76dcd23a16213993761be6ef",
     "grade": true,
     "grade_id": "cell-582ca42889e10009",
     "locked": true,
     "points": 1,
     "schema_version": 3,
     "solution": false
    }
   },
   "outputs": [],
   "source": [
    "# Hidden Test Case"
   ]
  },
  {
   "cell_type": "code",
   "execution_count": 179,
   "metadata": {
    "deletable": false,
    "editable": false,
    "nbgrader": {
     "cell_type": "code",
     "checksum": "bc79ff43026dea627e13eed891e5b154",
     "grade": true,
     "grade_id": "cell-0411adb352b72c49",
     "locked": true,
     "points": 1,
     "schema_version": 3,
     "solution": false
    }
   },
   "outputs": [],
   "source": [
    "# Hidden Test Case"
   ]
  },
  {
   "cell_type": "markdown",
   "metadata": {
    "deletable": false,
    "editable": false,
    "nbgrader": {
     "cell_type": "markdown",
     "checksum": "749ba8fbabc30dcb3a70eff3544edb7b",
     "grade": false,
     "grade_id": "cell-1beadf560529f8ea",
     "locked": true,
     "schema_version": 3,
     "solution": false
    }
   },
   "source": [
    "## Implementing Rule 3\n",
    "Recall the third law of sudoku: \"A number may not occur more than once within a given sub-square.\"  A 9x9 sudoku contains 9 3x3 subsquares, as illustrated in the assignment introduction.  \n",
    "\n",
    "Write a function `subSquareCheck(x,y,val,s)` that, given the `x` and `y` position of the cell we are checking ('x' and 'y' respectively), a value to check `val`, and a sudoku puzzle `s`, returns False if the given value has already been used in the indicated sub-square, and True if the number is still available. \n",
    "\n",
    "HINT: Up to now we have been creating ranges to loop over within the loop statement itself, but this need not be the case!  While it's certainly possible to generate the correct ranges algebraicly, you could also use if-statements!  \n",
    "\n",
    "ANOTHER HINT: In our sudoku format, the first index selects the row, which means it corresponds to the y-coordinate."
   ]
  },
  {
   "cell_type": "code",
   "execution_count": 180,
   "metadata": {
    "deletable": false,
    "nbgrader": {
     "cell_type": "code",
     "checksum": "009890c97a4258733c82e44aa690b033",
     "grade": false,
     "grade_id": "cell-2b40016d358c45d7",
     "locked": false,
     "schema_version": 3,
     "solution": true
    }
   },
   "outputs": [],
   "source": [
    "def subSquareCheck(x,y,val,s) :\n",
    "    offsets = [(-1, -1), (-1, 0), (-1, 1), (0, -1), (0, 0), (0, 1), (1, -1), (1, 0), (1, 1)]\n",
    "    for offset in offsets:\n",
    "        i, j = offset\n",
    "        i, j = x+i, y+j\n",
    "        if s[j][i] == val:\n",
    "            return False\n",
    "\n",
    "    return True\n",
    "\n"
   ]
  },
  {
   "cell_type": "markdown",
   "metadata": {},
   "source": [
    "### Test Cases"
   ]
  },
  {
   "cell_type": "code",
   "execution_count": 181,
   "metadata": {},
   "outputs": [
    {
     "output_type": "execute_result",
     "data": {
      "text/plain": "True"
     },
     "metadata": {},
     "execution_count": 181
    }
   ],
   "source": [
    "instantiateCases () \n",
    "subSquareCheck(7,4,6,s) == False"
   ]
  },
  {
   "cell_type": "code",
   "execution_count": 182,
   "metadata": {},
   "outputs": [
    {
     "output_type": "execute_result",
     "data": {
      "text/plain": "True"
     },
     "metadata": {},
     "execution_count": 182
    }
   ],
   "source": [
    "instantiateCases () \n",
    "subSquareCheck(4,7,6,s) == True"
   ]
  },
  {
   "cell_type": "code",
   "execution_count": 183,
   "metadata": {
    "deletable": false,
    "editable": false,
    "nbgrader": {
     "cell_type": "code",
     "checksum": "7fe445068f0ce0944898e967249071cc",
     "grade": true,
     "grade_id": "cell-ded752ae30536b08",
     "locked": true,
     "points": 1,
     "schema_version": 3,
     "solution": false
    }
   },
   "outputs": [],
   "source": [
    "# Hidden Test Case"
   ]
  },
  {
   "cell_type": "code",
   "execution_count": 184,
   "metadata": {
    "deletable": false,
    "editable": false,
    "nbgrader": {
     "cell_type": "code",
     "checksum": "f0d39091761e2a6f8d2adf704033e2c3",
     "grade": true,
     "grade_id": "cell-904615925ec15a55",
     "locked": true,
     "points": 1,
     "schema_version": 3,
     "solution": false
    }
   },
   "outputs": [],
   "source": [
    "# Hidden Test Case"
   ]
  },
  {
   "cell_type": "code",
   "execution_count": 185,
   "metadata": {
    "deletable": false,
    "editable": false,
    "nbgrader": {
     "cell_type": "code",
     "checksum": "ab52088c7c6823c5fa0d8946fe8377bd",
     "grade": true,
     "grade_id": "cell-097aa1f12bfe92ff",
     "locked": true,
     "points": 1,
     "schema_version": 3,
     "solution": false
    }
   },
   "outputs": [],
   "source": [
    "# Hidden Test Case"
   ]
  },
  {
   "cell_type": "markdown",
   "metadata": {
    "deletable": false,
    "editable": false,
    "nbgrader": {
     "cell_type": "markdown",
     "checksum": "97ed1cf876ce74c3b7502cba76611756",
     "grade": false,
     "grade_id": "cell-99409e66f325c9ad",
     "locked": true,
     "schema_version": 3,
     "solution": false
    }
   },
   "source": [
    "## Constructing a Strategy\n",
    "There are several strategies that may be used to solve a sudoku puzzle, but the simplest is the so-called \"process of elimination.\"  Using this strategy, we examine a cell's environment to see how many numbers are possible.  This should be reasonably simple, since the range of possible values is known, and we already have three functions which perform the three checks necessary.  \n",
    "\n",
    "If there is __only one__ value that is allowable, then the value gets written into that cell.  If there is more than one possibility, we leave the cell blank.  If there are no possible values for this cell, then the information given in the puzzle contradicts the three rules of sudokus.  In this case, we will raise a __\"Sudoku Invalid\"__ exception.  \n",
    "\n",
    "Write a function 'elimination(x,y,s)' that, given a zero-indexed x and y position in the puzzle ('x' and 'y' respectively), and a sudoku puzzle s, returns the either a zero or \"blank\" if there is more than one possible answer, the answer if there is exactly one possible answer, and raises a \"Sudoku Invalid\" exception if there are no possible answers.  "
   ]
  },
  {
   "cell_type": "code",
   "execution_count": 186,
   "metadata": {
    "deletable": false,
    "nbgrader": {
     "cell_type": "code",
     "checksum": "1f964517de70b906d488bd261ce51d5a",
     "grade": false,
     "grade_id": "cell-f8f7a3db2608a9b5",
     "locked": false,
     "schema_version": 3,
     "solution": true
    }
   },
   "outputs": [],
   "source": [
    "def elimination (x, y, s) :\n",
    "    i, possible = 0, 0\n",
    "    sx, sy = 3 * (x//3) + 1, 3 * (y//3) + 1\n",
    "    possibleVal = 0\n",
    "    for i in range(1, 10):\n",
    "        if horizontalCheck(y, i, s) and \\\n",
    "            verticalCheck(x, i, s) and \\\n",
    "            subSquareCheck(sx, sy, i, s):\n",
    "            possible += 1\n",
    "            possibleVal = i\n",
    "\n",
    "    if possible == 0:\n",
    "        raise Exception(\"Sudoku Invalid\")\n",
    "    if possible == 1:\n",
    "        return possibleVal\n",
    "\n",
    "    return 0\n",
    "\n"
   ]
  },
  {
   "cell_type": "markdown",
   "metadata": {
    "deletable": false,
    "editable": false,
    "nbgrader": {
     "cell_type": "markdown",
     "checksum": "3e4200d97414f1b44de63bd0ce291323",
     "grade": false,
     "grade_id": "cell-012b5413b8c8d4f1",
     "locked": true,
     "schema_version": 3,
     "solution": false
    }
   },
   "source": [
    "### Test Cases"
   ]
  },
  {
   "cell_type": "code",
   "execution_count": 187,
   "metadata": {},
   "outputs": [
    {
     "output_type": "execute_result",
     "data": {
      "text/plain": "True"
     },
     "metadata": {},
     "execution_count": 187
    }
   ],
   "source": [
    "instantiateCases () \n",
    "elimination (6,4,s) == 8"
   ]
  },
  {
   "cell_type": "code",
   "execution_count": 188,
   "metadata": {},
   "outputs": [
    {
     "output_type": "execute_result",
     "data": {
      "text/plain": "True"
     },
     "metadata": {},
     "execution_count": 188
    }
   ],
   "source": [
    "instantiateCases () \n",
    "elimination (0,0,s) == 0"
   ]
  },
  {
   "cell_type": "code",
   "execution_count": 189,
   "metadata": {},
   "outputs": [
    {
     "output_type": "stream",
     "name": "stdout",
     "text": "This test passed as an exception occured\n"
    }
   ],
   "source": [
    "instantiateCases () \n",
    "try :\n",
    "    elimination (5,6,s4)\n",
    "    print(\"This test failed as no exception occured\")\n",
    "except :\n",
    "    print(\"This test passed as an exception occured\")\n"
   ]
  },
  {
   "cell_type": "code",
   "execution_count": 190,
   "metadata": {
    "deletable": false,
    "editable": false,
    "nbgrader": {
     "cell_type": "code",
     "checksum": "092e943699a2db1d40d063d90cc55f93",
     "grade": true,
     "grade_id": "cell-4aa94e0e384185c9",
     "locked": true,
     "points": 1,
     "schema_version": 3,
     "solution": false
    }
   },
   "outputs": [],
   "source": [
    "# Hidden Test Case"
   ]
  },
  {
   "cell_type": "code",
   "execution_count": 191,
   "metadata": {
    "deletable": false,
    "editable": false,
    "nbgrader": {
     "cell_type": "code",
     "checksum": "814052b00d29df0c0bd839609b24b7c7",
     "grade": true,
     "grade_id": "cell-3ad42e5eda3f17d8",
     "locked": true,
     "points": 1,
     "schema_version": 3,
     "solution": false
    }
   },
   "outputs": [],
   "source": [
    "# Hidden Test Case"
   ]
  },
  {
   "cell_type": "code",
   "execution_count": 192,
   "metadata": {
    "deletable": false,
    "editable": false,
    "nbgrader": {
     "cell_type": "code",
     "checksum": "5d25e87f9834b7e9d37d9186b2157a72",
     "grade": true,
     "grade_id": "cell-e086e1d98b8820d0",
     "locked": true,
     "points": 1,
     "schema_version": 3,
     "solution": false
    }
   },
   "outputs": [],
   "source": [
    "# Hidden Test Case"
   ]
  },
  {
   "cell_type": "markdown",
   "metadata": {
    "deletable": false,
    "editable": false,
    "nbgrader": {
     "cell_type": "markdown",
     "checksum": "4fee91d4c36af9213a24beebd4399aea",
     "grade": false,
     "grade_id": "cell-68aab76da1c91676",
     "locked": true,
     "schema_version": 3,
     "solution": false
    }
   },
   "source": [
    "## Applying Strategies\n",
    "Now that we have a strategy to apply (elimination), we should teach the computer how to apply strategies to a sudoku puzzle.  However, the elimination strategy is only one of a number of possible sudoku solving strategies.  For more information on sudoku solving strategies, take a look at the following youtube video: https://www.youtube.com/watch?v=b123EURtu3I . With respect to this video, we have only implemented somewhat dubiously named \"Naked Singles\" strategy.\n",
    "\n",
    "Write a function 'applyStrategy(strategy, s)' which, given a strategy (in this case, a function with the input/output properties described in Question 3), and a puzzle s, applies that strategy to each cell in the puzzle.  Have the function return True if the strategy worked, and False if it didnt (see below). It will become important later on to know if a strategy worked.  To this end, we need to keep track of whether there are any differences between the strategy's return results and what was already in the puzzle.  To clarify, if, for a particular cell, the strategy returns what the cell already contained, there has been no change, and the strategy failed for that cell.  We are interested in whether at least one of the cells were changed when we applied the strategy to the entire puzzle.  \n",
    "\n",
    "HINT: There is no need to run a strategy on a cell that is not \"blank\" (i.e., contains zero).  \n",
    "\n",
    "DOUBLE HINT: Given that s is a mutable data type, we can simply modify the contents of the cells using assignment statements. "
   ]
  },
  {
   "cell_type": "code",
   "execution_count": 193,
   "metadata": {
    "deletable": false,
    "nbgrader": {
     "cell_type": "code",
     "checksum": "4375d19655c63d8181db0a4fc77fb146",
     "grade": false,
     "grade_id": "cell-88deda1e8a83ad88",
     "locked": false,
     "schema_version": 3,
     "solution": true
    }
   },
   "outputs": [],
   "source": [
    "def applyStrategy(strategy, s) :\n",
    "    changed = False\n",
    "    for y in range(len(s)):\n",
    "        for x in range(len(s[0])):\n",
    "            if s[y][x] == 0:\n",
    "                try:\n",
    "                    t = strategy(x, y, s)\n",
    "                    if t != s[y][x]:\n",
    "                        changed = True\n",
    "                    s[y][x] = t\n",
    "                except:\n",
    "                    return False\n",
    "    return changed\n",
    "\n"
   ]
  },
  {
   "cell_type": "markdown",
   "metadata": {},
   "source": [
    "### Test Cases"
   ]
  },
  {
   "cell_type": "code",
   "execution_count": 194,
   "metadata": {},
   "outputs": [
    {
     "output_type": "execute_result",
     "data": {
      "text/plain": "True"
     },
     "metadata": {},
     "execution_count": 194
    }
   ],
   "source": [
    "instantiateCases () \n",
    "applyStrategy(elimination, s)\n",
    "s == s5"
   ]
  },
  {
   "cell_type": "code",
   "execution_count": 195,
   "metadata": {},
   "outputs": [
    {
     "output_type": "execute_result",
     "data": {
      "text/plain": "True"
     },
     "metadata": {},
     "execution_count": 195
    }
   ],
   "source": [
    "instantiateCases () \n",
    "applyStrategy(elimination, s3) == False"
   ]
  },
  {
   "cell_type": "code",
   "execution_count": 196,
   "metadata": {},
   "outputs": [
    {
     "output_type": "stream",
     "name": "stdout",
     "text": "[[0, 0, 7, 0, 0, 0, 0, 1, 5], [0, 0, 0, 3, 9, 7, 0, 0, 0], [0, 6, 2, 0, 1, 0, 4, 0, 9], [6, 2, 9, 0, 7, 1, 5, 4, 3], [7, 3, 5, 4, 6, 9, 8, 2, 1], [4, 8, 1, 2, 0, 0, 9, 6, 7], [9, 4, 6, 0, 2, 5, 7, 3, 8], [0, 7, 3, 9, 8, 4, 0, 5, 6], [1, 5, 8, 0, 3, 6, 2, 9, 4]]\n[[0, 9, 7, 0, 4, 0, 0, 1, 5], [0, 1, 4, 3, 9, 7, 6, 8, 2], [0, 6, 2, 0, 1, 8, 4, 7, 9], [6, 2, 9, 8, 7, 1, 5, 4, 3], [7, 3, 5, 4, 6, 9, 8, 2, 1], [4, 8, 1, 2, 5, 3, 9, 6, 7], [9, 4, 6, 1, 2, 5, 7, 3, 8], [2, 7, 3, 9, 8, 4, 1, 5, 6], [1, 5, 8, 7, 3, 6, 2, 9, 4]]\n"
    }
   ],
   "source": [
    "instantiateCases()\n",
    "print(s5)\n",
    "applyStrategy(elimination, s5)\n",
    "print(s5)"
   ]
  },
  {
   "cell_type": "code",
   "execution_count": 197,
   "metadata": {
    "deletable": false,
    "editable": false,
    "nbgrader": {
     "cell_type": "code",
     "checksum": "93e1f22fb19b052b44197d5c412d3f80",
     "grade": true,
     "grade_id": "cell-759f6f3545b05728",
     "locked": true,
     "points": 2,
     "schema_version": 3,
     "solution": false
    }
   },
   "outputs": [],
   "source": [
    "# Hidden Test Case"
   ]
  },
  {
   "cell_type": "code",
   "execution_count": 198,
   "metadata": {
    "deletable": false,
    "editable": false,
    "nbgrader": {
     "cell_type": "code",
     "checksum": "3a17e0a4c2524ef3da7cda9ffb7c55df",
     "grade": true,
     "grade_id": "cell-0d0ce427c73c2535",
     "locked": true,
     "points": 1,
     "schema_version": 3,
     "solution": false
    }
   },
   "outputs": [],
   "source": [
    "# Hidden Test Case"
   ]
  },
  {
   "cell_type": "code",
   "execution_count": 199,
   "metadata": {
    "deletable": false,
    "editable": false,
    "nbgrader": {
     "cell_type": "code",
     "checksum": "7db8d26fd4f110896012dd6ac15d2d0b",
     "grade": true,
     "grade_id": "cell-db0973748ad31e6c",
     "locked": true,
     "points": 1,
     "schema_version": 3,
     "solution": false
    }
   },
   "outputs": [],
   "source": [
    "# Hidden Test Case"
   ]
  },
  {
   "cell_type": "code",
   "execution_count": 200,
   "metadata": {
    "deletable": false,
    "editable": false,
    "nbgrader": {
     "cell_type": "code",
     "checksum": "eb2c8f208a150a9725eefeb838d107da",
     "grade": true,
     "grade_id": "cell-0ab980d24bae89d9",
     "locked": true,
     "points": 1,
     "schema_version": 3,
     "solution": false
    }
   },
   "outputs": [],
   "source": [
    "# Hidden Test Case"
   ]
  },
  {
   "cell_type": "markdown",
   "metadata": {},
   "source": [
    "## Bringing it all together\n",
    "Now that we have a way to apply strategies to a puzzle, let's create an algorithm that will attempt to solve a puzzle, given the puzzle and a list of strategy functions.  \n",
    "\n",
    "We must repeatedly apply the given list of strategies to the puzzle until they stop working or the puzzle is solved (remember to use our function from Question 1!) We will try to apply each strategy in the list of strategies once to the puzzle per execution of the loop.  If all of them return False, the puzzle has not changed, and we break the loop. If the algorithm fails to solve the puzzle, raise a __\"Sudoku Unsolvable\"__ exception.  Otherwise, return the solved puzzle.  "
   ]
  },
  {
   "cell_type": "code",
   "execution_count": 201,
   "metadata": {
    "deletable": false,
    "nbgrader": {
     "cell_type": "code",
     "checksum": "3468c760fce7b918b32cad2b73d7d7f9",
     "grade": false,
     "grade_id": "cell-0ac9debcd4c5baeb",
     "locked": false,
     "schema_version": 3,
     "solution": true
    }
   },
   "outputs": [],
   "source": [
    "def sudokuSolver (s, strategies) :\n",
    "    while True:\n",
    "        worked = False\n",
    "        for strategy in strategies:\n",
    "            worked = applyStrategy(strategy, s)\n",
    "            if worked:\n",
    "                break\n",
    "        if solved(s):\n",
    "            break\n",
    "        elif not worked:\n",
    "            raise Exception(\"Sudoku Unsolvable\")\n",
    "    return s\n",
    "\n"
   ]
  },
  {
   "cell_type": "markdown",
   "metadata": {},
   "source": [
    "### Test Cases"
   ]
  },
  {
   "cell_type": "code",
   "execution_count": 202,
   "metadata": {},
   "outputs": [
    {
     "output_type": "execute_result",
     "data": {
      "text/plain": "True"
     },
     "metadata": {},
     "execution_count": 202
    }
   ],
   "source": [
    "instantiateCases () \n",
    "sudokuSolver(s, [elimination]) == s3"
   ]
  },
  {
   "cell_type": "code",
   "execution_count": 203,
   "metadata": {},
   "outputs": [
    {
     "output_type": "execute_result",
     "data": {
      "text/plain": "True"
     },
     "metadata": {},
     "execution_count": 203
    }
   ],
   "source": [
    "instantiateCases () \n",
    "sudokuSolver(s5, [elimination]) == s3"
   ]
  },
  {
   "cell_type": "code",
   "execution_count": 204,
   "metadata": {},
   "outputs": [
    {
     "output_type": "stream",
     "name": "stdout",
     "text": "This test passed as an exception occured\n"
    }
   ],
   "source": [
    "instantiateCases () \n",
    "try :\n",
    "    sudokuSolver(s2, [elimination])\n",
    "    print(\"This test failed as no exception occured\")\n",
    "except :\n",
    "    print(\"This test passed as an exception occured\")"
   ]
  },
  {
   "cell_type": "code",
   "execution_count": 205,
   "metadata": {
    "deletable": false,
    "editable": false,
    "nbgrader": {
     "cell_type": "code",
     "checksum": "5237ae72a82e39d7eb7a5ed1bb683d26",
     "grade": true,
     "grade_id": "cell-9dbb26ec2d92cc79",
     "locked": true,
     "points": 1,
     "schema_version": 3,
     "solution": false
    }
   },
   "outputs": [],
   "source": [
    "# Hidden Test Case"
   ]
  },
  {
   "cell_type": "code",
   "execution_count": 206,
   "metadata": {
    "deletable": false,
    "editable": false,
    "nbgrader": {
     "cell_type": "code",
     "checksum": "fc25995aa4a74b9ca6031e8f61e7d934",
     "grade": true,
     "grade_id": "cell-5af373e508df9060",
     "locked": true,
     "points": 1,
     "schema_version": 3,
     "solution": false
    }
   },
   "outputs": [],
   "source": [
    "# Hidden Test Case"
   ]
  },
  {
   "cell_type": "code",
   "execution_count": 207,
   "metadata": {
    "deletable": false,
    "editable": false,
    "nbgrader": {
     "cell_type": "code",
     "checksum": "35223d2293f354165fa5b90a69c64cbd",
     "grade": true,
     "grade_id": "cell-217dceec86279850",
     "locked": true,
     "points": 1,
     "schema_version": 3,
     "solution": false
    }
   },
   "outputs": [],
   "source": [
    "# Hidden Test Case"
   ]
  },
  {
   "cell_type": "code",
   "execution_count": 208,
   "metadata": {
    "deletable": false,
    "editable": false,
    "nbgrader": {
     "cell_type": "code",
     "checksum": "965eb1e68a6b0eb836ec1f683adc7388",
     "grade": true,
     "grade_id": "cell-80e5be5f92c584a4",
     "locked": true,
     "points": 1,
     "schema_version": 3,
     "solution": false
    }
   },
   "outputs": [],
   "source": [
    "# Hidden Test Case"
   ]
  },
  {
   "cell_type": "markdown",
   "metadata": {
    "deletable": false,
    "editable": false,
    "nbgrader": {
     "cell_type": "markdown",
     "checksum": "4f3fd3ae0fe4b97eb349e77543a8b94a",
     "grade": false,
     "grade_id": "cell-f92bc911172c547a",
     "locked": true,
     "schema_version": 3,
     "solution": false
    }
   },
   "source": [
    "## Bonus - Difficulty Level : Evil\n",
    "Our elimination method (also known as \"Naked Singles\") works well for easy sudoku problems, but fails when used on more difficult puzzles, such as those defined above as puzzles \"m\" and \"h\".  In order to solve these puzzles, we need more strategies!!  \n",
    "\n",
    "Here's a link to the youtube video cited above which outlines nine sudoku strategies: https://www.youtube.com/watch?v=b123EURtu3I\n",
    "\n",
    "Using your programming skills, create one or more additional strategies, such that our solveSudoku function (when supplied with the additional strategies) will solve the \"m\" sudoku puzzle. You are free to select whatever set of strategies you like, but \"Hidden Singles\" is a suggested starting point.\n",
    "\n",
    "Remember that a strategy must take the inputs x, y, and s, as indicated in Question 3.  \n",
    "\n",
    "NOTE: This question is difficult, long and complicated!  Don't stress too much if you can't get it... it won't be on the exam ^_^\n",
    "\n",
    "DOUBLE NOTE: Solving 'm' is worth full marks.  Part marks will be awarded for being able to fill in additional blanks left over from running the 'elimination' strategy."
   ]
  },
  {
   "cell_type": "code",
   "execution_count": 209,
   "metadata": {
    "deletable": false,
    "nbgrader": {
     "cell_type": "code",
     "checksum": "f4260e51020ccb773b2428fbb388c4da",
     "grade": false,
     "grade_id": "cell-12899cb618ecedb4",
     "locked": false,
     "schema_version": 3,
     "solution": true
    }
   },
   "outputs": [],
   "source": [
    "# your code here!\n",
    "def candidates(x, y, s):\n",
    "    ans = []\n",
    "    sx, sy = 3 * (x//3) + 1, 3 * (y//3) + 1 \n",
    "    for i in range(1, 10):\n",
    "        if horizontalCheck(y, i, s) and \\\n",
    "            verticalCheck(x, i, s) and \\\n",
    "            subSquareCheck(sx, sy, i, s):\n",
    "            ans.append(i)\n",
    "    return ans\n",
    "\n",
    "def hiddenSinglesRow(x, y, s):\n",
    "    freq = [[] for _ in range(10)]\n",
    "    for i in range(len(s[0])):\n",
    "        if s[y][i] == 0:\n",
    "            for c in candidates(i, y, s):\n",
    "                freq[c].append(i)\n",
    "    for i in range(len(freq)):\n",
    "        if len(freq[i]) == 1 and \\\n",
    "            freq[i][0] == x:\n",
    "            return i\n",
    "    return 0\n",
    "\n",
    "def hiddenSinglesColumn(x, y, s):\n",
    "    freq = [[] for _ in range(10)]\n",
    "    for i in range(len(s)):\n",
    "        if s[i][x] == 0:\n",
    "            for c in candidates(x, i, s):\n",
    "                freq[c].append(i)\n",
    "    for i in range(len(freq)):\n",
    "        if len(freq[i]) == 1 and \\\n",
    "            freq[i][0] == y:\n",
    "            return i\n",
    "    return 0\n",
    "\n",
    "def hiddenSinglesSubSquare(x, y, s):\n",
    "    freq = [[] for _ in range(10)]\n",
    "    a, b = 3*(x//3), 3*(y//3)\n",
    "    for i in range(a, a+3):\n",
    "        for j in range(b, b+3):\n",
    "            if s[j][i] == 0:\n",
    "                for c in candidates(i, j, s):\n",
    "                    freq[c].append((i, j))\n",
    "    for i in range(len(freq)):\n",
    "        if len(freq[i]) == 1 and \\\n",
    "            freq[i][0] == (x, y):\n",
    "            return i\n",
    "    return 0\n",
    "\n",
    "def hiddenSingles(x, y, s):\n",
    "    a = hiddenSinglesRow(x, y, s) \n",
    "    if a > 0:\n",
    "        return a\n",
    "    a = hiddenSinglesColumn(x, y, s) \n",
    "    if a > 0:\n",
    "        return a\n",
    "    return hiddenSinglesSubSquare(x, y, s)"
   ]
  },
  {
   "cell_type": "code",
   "execution_count": 210,
   "metadata": {},
   "outputs": [],
   "source": [
    "instantiateCases () \n",
    "global evilSolution\n",
    "evilSolution = sudokuSolver(m, [elimination, hiddenSingles]) # <== add your strategies to the list here\n",
    "#Hidden test cases are below this cell, do not delete!"
   ]
  },
  {
   "cell_type": "code",
   "execution_count": null,
   "metadata": {
    "deletable": false,
    "nbgrader": {
     "cell_type": "code",
     "checksum": "dcba007dab7cf01e2d3c335f06d62e9c",
     "grade": true,
     "grade_id": "cell-a62aae69b3211e40",
     "locked": false,
     "points": 0,
     "schema_version": 3,
     "solution": true,
     "task": false
    }
   },
   "outputs": [],
   "source": []
  },
  {
   "cell_type": "code",
   "execution_count": 211,
   "metadata": {
    "deletable": false,
    "editable": false,
    "nbgrader": {
     "cell_type": "code",
     "checksum": "efc5dd1656d75501adfc255dde4a30f6",
     "grade": true,
     "grade_id": "cell-ec01ad8875a1d696",
     "locked": true,
     "points": 8,
     "schema_version": 3,
     "solution": false,
     "task": false
    }
   },
   "outputs": [],
   "source": [
    "# Hidden Test Case"
   ]
  },
  {
   "cell_type": "markdown",
   "metadata": {
    "deletable": false,
    "editable": false,
    "nbgrader": {
     "cell_type": "markdown",
     "checksum": "5be0fed7d1b44553cc26b4236bd5b6d4",
     "grade": false,
     "grade_id": "cell-0f84e451c166ba68",
     "locked": true,
     "schema_version": 3,
     "solution": false
    }
   },
   "source": [
    "## Bonus - Difficulty Level : Psychotic \n",
    "Now solve sudoku puzzle 'h'! 'h' is for Hard! \n",
    "\n",
    "This one is all or nothing!  Adding enough strategies to solve 'h' is worth 12 points! \n",
    "\n",
    "MWAHAHAHAHAHA!!! GOOD LUCK!!! "
   ]
  },
  {
   "cell_type": "code",
   "execution_count": null,
   "metadata": {
    "deletable": false,
    "nbgrader": {
     "cell_type": "code",
     "checksum": "08020f94a30903f8199b1770edd16072",
     "grade": false,
     "grade_id": "cell-2ee4ddf938340d6b",
     "locked": false,
     "schema_version": 3,
     "solution": true
    }
   },
   "outputs": [],
   "source": []
  },
  {
   "cell_type": "code",
   "execution_count": 213,
   "metadata": {
    "deletable": false,
    "editable": false,
    "nbgrader": {
     "cell_type": "code",
     "checksum": "52445d0af7a991a19a776873c6821f7a",
     "grade": true,
     "grade_id": "cell-6ae40ab8b44a1ca0",
     "locked": true,
     "points": 12,
     "schema_version": 3,
     "solution": false,
     "task": false
    }
   },
   "outputs": [],
   "source": [
    "# Hidden Test Case"
   ]
  }
 ],
 "metadata": {
  "kernelspec": {
   "display_name": "Python 3.7.3 64-bit",
   "language": "python",
   "name": "python37364bit87b19ee6b49f412f8c34b5c3a9f629ec"
  },
  "language_info": {
   "codemirror_mode": {
    "name": "ipython",
    "version": 3
   },
   "file_extension": ".py",
   "mimetype": "text/x-python",
   "name": "python",
   "nbconvert_exporter": "python",
   "pygments_lexer": "ipython3",
   "version": "3.7.3-final"
  }
 },
 "nbformat": 4,
 "nbformat_minor": 2
}
